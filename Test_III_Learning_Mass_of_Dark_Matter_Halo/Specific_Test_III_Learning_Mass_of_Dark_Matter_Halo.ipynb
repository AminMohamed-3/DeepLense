{
  "cells": [
    {
      "attachments": {},
      "cell_type": "markdown",
      "metadata": {},
      "source": [
        "# **Imports**"
      ]
    },
    {
      "cell_type": "code",
      "execution_count": 1,
      "metadata": {
        "id": "MxcmXZnR2KQA"
      },
      "outputs": [],
      "source": [
        "import torch\n",
        "import torchvision\n",
        "import torch.nn as nn  \n",
        "import torch.optim as optim  \n",
        "import torch.nn.functional as F  \n",
        "from torch.utils.data import (\n",
        "    DataLoader,\n",
        "    Dataset,\n",
        ") \n",
        "import torchvision.datasets as datasets\n",
        "import torchvision.transforms as transforms \n",
        "from tqdm import tqdm\n",
        "from google.colab.patches import cv2_imshow\n",
        "import cv2\n",
        "import numpy as np\n",
        "from sklearn.metrics import roc_auc_score\n",
        "import matplotlib.pyplot as plt\n",
        "import os\n",
        "from PIL import Image\n",
        "import pandas as pd\n",
        "from sklearn.model_selection import train_test_split"
      ]
    },
    {
      "cell_type": "code",
      "execution_count": 11,
      "metadata": {
        "colab": {
          "base_uri": "https://localhost:8080/"
        },
        "id": "iQd28RLj2OfV",
        "outputId": "225f4070-1748-44d1-fccf-c3768363e0cb"
      },
      "outputs": [
        {
          "name": "stdout",
          "output_type": "stream",
          "text": [
            "Drive already mounted at /content/drive; to attempt to forcibly remount, call drive.mount(\"/content/drive\", force_remount=True).\n"
          ]
        }
      ],
      "source": [
        "from google.colab import drive\n",
        "drive.mount('/content/drive')"
      ]
    },
    {
      "cell_type": "code",
      "execution_count": null,
      "metadata": {
        "id": "Ok3ejKrU2QK6"
      },
      "outputs": [],
      "source": [
        "!tar -xvzf \"/content/drive/MyDrive/lens_data_alt.tgz\";"
      ]
    },
    {
      "attachments": {},
      "cell_type": "markdown",
      "metadata": {},
      "source": [
        "# **Load Data**"
      ]
    },
    {
      "cell_type": "code",
      "execution_count": 21,
      "metadata": {
        "id": "b0WlXAk52jaw"
      },
      "outputs": [],
      "source": [
        "train_transforms = transforms.Compose([\n",
        "        transforms.Lambda(lambda x: x.to(torch.float32).repeat(3,1,1)),\n",
        "        transforms.Resize((224,224)),\n",
        "        transforms.Lambda(lambda x: x - x.min() / x.max() - x.min()),\n",
        "        transforms.RandomHorizontalFlip(p = 0.5),\n",
        "        transforms.RandomVerticalFlip(p = 0.5),\n",
        "        ])\n",
        "test_transforms = transforms.Compose([\n",
        "        transforms.Lambda(lambda x: x.to(torch.float32).repeat(3,1,1)),\n",
        "        transforms.Resize((224,224)),\n",
        "        transforms.Lambda(lambda x: x - x.min() / x.max() - x.min())\n",
        "        ])"
      ]
    },
    {
      "cell_type": "code",
      "execution_count": 22,
      "metadata": {
        "id": "m7__C3H128IK"
      },
      "outputs": [],
      "source": [
        "path = \"/content/lens_data\"\n",
        "class MyDataset(Dataset):\n",
        "  def __init__(self, path=path, train_transform=train_transforms,test_transform = test_transforms, mode=None):\n",
        "    self.path = path\n",
        "    self.data_files = os.listdir(path)\n",
        "    self.data_files.sort()\n",
        "\n",
        "    self.train_transform = train_transforms\n",
        "    self.test_transform = test_transforms\n",
        "\n",
        "    train_images, test_images = train_test_split(self.data_files, test_size = 0.2, random_state = 666)\n",
        "    self.train_images = train_images\n",
        "    self.test_images = test_images\n",
        "\n",
        "    self.mode = mode\n",
        "\n",
        "  def __len__(self):\n",
        "    if self.mode == 'train':\n",
        "      return len(self.train_images)\n",
        "    elif self.mode == 'test':\n",
        "      return len(self.test_images)\n",
        "\n",
        "  def __getitem__(self, index):\n",
        "    if self.mode == 'train':\n",
        "      data = np.load(os.path.join(self.path, self.train_images[index]),allow_pickle=True)\n",
        "      image,mass = torch.tensor(data[0], dtype=torch.float32) , torch.tensor(data[1], dtype=torch.float32)\n",
        "\n",
        "      image = self.train_transform(image)\n",
        "\n",
        "      return image,mass\n",
        "\n",
        "    elif self.mode == 'test':\n",
        "      data = np.load(os.path.join(self.path,self.test_images[index]),allow_pickle=True)\n",
        "      image,mass = torch.tensor(data[0], dtype=torch.float32) , torch.tensor(data[1], dtype=torch.float32)\n",
        "\n",
        "      image = self.test_transform(image)\n",
        "\n",
        "      return image,mass"
      ]
    },
    {
      "cell_type": "code",
      "execution_count": 23,
      "metadata": {
        "id": "PKyndpJG4r0M"
      },
      "outputs": [],
      "source": [
        "train_dataset = MyDataset(mode = 'train')\n",
        "test_dataset = MyDataset(mode = 'test')\n",
        "\n",
        "total_count = len(test_dataset)\n",
        "test_count = int(0.5 * total_count)\n",
        "val_count = total_count - test_count\n",
        "test_dataset, val_dataset = torch.utils.data.random_split(\n",
        "    test_dataset, (test_count, val_count)\n",
        ")\n",
        "\n",
        "\n",
        "\n",
        "train_loader = DataLoader(train_dataset, batch_size=32,shuffle=True)\n",
        "val_loader = DataLoader(val_dataset, batch_size=32,shuffle=False)\n",
        "test_loader = DataLoader(test_dataset,batch_size=32,shuffle=False)"
      ]
    },
    {
      "attachments": {},
      "cell_type": "markdown",
      "metadata": {},
      "source": [
        "# **Define Model**"
      ]
    },
    {
      "cell_type": "code",
      "execution_count": 24,
      "metadata": {
        "id": "MdgbI3Fa5jxa"
      },
      "outputs": [],
      "source": [
        "device = torch.device(\"cuda\" if torch.cuda.is_available() else \"cpu\")\n",
        "model = torchvision.models.mobilenet_v3_large(weights = True)\n",
        "\n",
        "\n",
        "model.classifier = nn.Sequential(\n",
        "    nn.Linear(960, 1)\n",
        ")\n",
        "model.to(device);"
      ]
    },
    {
      "cell_type": "code",
      "execution_count": 25,
      "metadata": {
        "id": "0fUuzJgH6fKt"
      },
      "outputs": [],
      "source": [
        "criterion = nn.MSELoss()\n",
        "optimizer = optim.Adam(model.parameters(), lr=4e-4)\n",
        "scheduler = optim.lr_scheduler.ReduceLROnPlateau(optimizer, mode='min', factor=0.9, patience=2,verbose=True)"
      ]
    },
    {
      "cell_type": "code",
      "execution_count": 26,
      "metadata": {
        "id": "5bt-LDYd8HIa"
      },
      "outputs": [],
      "source": [
        "import gc\n",
        "gc.collect()\n",
        "torch.cuda.empty_cache()"
      ]
    },
    {
      "attachments": {},
      "cell_type": "markdown",
      "metadata": {},
      "source": [
        "# **Evaluataion Function**"
      ]
    },
    {
      "cell_type": "code",
      "execution_count": 27,
      "metadata": {
        "id": "vWorgru96mLY"
      },
      "outputs": [],
      "source": [
        "def evaluate(model, dataloader, criterion):\n",
        "    losses = []\n",
        "    all_targets = []\n",
        "    all_scores = []\n",
        "\n",
        "    model.eval()\n",
        "\n",
        "    with torch.no_grad():\n",
        "        for data, targets in dataloader:\n",
        "\n",
        "            data = data.to(device=device)\n",
        "            targets = targets.to(device=device)\n",
        "\n",
        "            scores = model(data).squeeze()\n",
        "            loss = criterion(scores, targets.squeeze(0))\n",
        "\n",
        "            losses.append(loss.item())\n",
        "            all_targets.extend(targets.cpu().numpy())\n",
        "            all_scores.extend(scores.detach().cpu().numpy())\n",
        "\n",
        "        avg_loss = sum(losses) / len(losses)\n",
        "\n",
        "        \n",
        "        y_pred = np.array(all_scores)\n",
        "        y_true = np.array(all_targets)\n",
        "\n",
        "         \n",
        "\n",
        "    return avg_loss, y_pred, y_true"
      ]
    },
    {
      "attachments": {},
      "cell_type": "markdown",
      "metadata": {},
      "source": [
        "# **Training**"
      ]
    },
    {
      "cell_type": "code",
      "execution_count": 30,
      "metadata": {
        "colab": {
          "base_uri": "https://localhost:8080/"
        },
        "id": "ZuurwoWW7Uxn",
        "outputId": "944064ae-2058-45bc-da68-65e9f3d0005e"
      },
      "outputs": [
        {
          "name": "stderr",
          "output_type": "stream",
          "text": [
            "100%|██████████| 500/500 [01:16<00:00,  6.56it/s]\n"
          ]
        },
        {
          "name": "stdout",
          "output_type": "stream",
          "text": [
            "\n",
            "Epoch No. 1\n",
            "======\n",
            "\n",
            "Training Loss is 0.000212095657320, Validation Loss is 0.000179752205787\n",
            "===============\n",
            "\n"
          ]
        },
        {
          "name": "stderr",
          "output_type": "stream",
          "text": [
            "100%|██████████| 500/500 [01:15<00:00,  6.63it/s]\n"
          ]
        },
        {
          "name": "stdout",
          "output_type": "stream",
          "text": [
            "\n",
            "Epoch No. 2\n",
            "======\n",
            "\n",
            "Training Loss is 0.000192224464008, Validation Loss is 0.000287164371998\n",
            "===============\n",
            "\n"
          ]
        },
        {
          "name": "stderr",
          "output_type": "stream",
          "text": [
            "100%|██████████| 500/500 [01:14<00:00,  6.68it/s]\n"
          ]
        },
        {
          "name": "stdout",
          "output_type": "stream",
          "text": [
            "\n",
            "Epoch No. 3\n",
            "======\n",
            "\n",
            "Training Loss is 0.000180913674492, Validation Loss is 0.000162524202125\n",
            "===============\n",
            "\n"
          ]
        },
        {
          "name": "stderr",
          "output_type": "stream",
          "text": [
            "100%|██████████| 500/500 [01:15<00:00,  6.66it/s]\n"
          ]
        },
        {
          "name": "stdout",
          "output_type": "stream",
          "text": [
            "\n",
            "Epoch No. 4\n",
            "======\n",
            "\n",
            "Training Loss is 0.000179372818740, Validation Loss is 0.000148783850212\n",
            "===============\n",
            "\n"
          ]
        },
        {
          "name": "stderr",
          "output_type": "stream",
          "text": [
            "100%|██████████| 500/500 [01:14<00:00,  6.75it/s]\n"
          ]
        },
        {
          "name": "stdout",
          "output_type": "stream",
          "text": [
            "\n",
            "Epoch No. 5\n",
            "======\n",
            "\n",
            "Training Loss is 0.000159022432425, Validation Loss is 0.000128004851643\n",
            "===============\n",
            "\n"
          ]
        },
        {
          "name": "stderr",
          "output_type": "stream",
          "text": [
            "100%|██████████| 500/500 [01:14<00:00,  6.73it/s]\n"
          ]
        },
        {
          "name": "stdout",
          "output_type": "stream",
          "text": [
            "\n",
            "Epoch No. 6\n",
            "======\n",
            "\n",
            "Training Loss is 0.000143412735721, Validation Loss is 0.000286859874558\n",
            "===============\n",
            "\n"
          ]
        },
        {
          "name": "stderr",
          "output_type": "stream",
          "text": [
            "100%|██████████| 500/500 [01:15<00:00,  6.64it/s]\n"
          ]
        },
        {
          "name": "stdout",
          "output_type": "stream",
          "text": [
            "\n",
            "Epoch No. 7\n",
            "======\n",
            "\n",
            "Training Loss is 0.000149935652844, Validation Loss is 0.000121977899176\n",
            "===============\n",
            "\n"
          ]
        },
        {
          "name": "stderr",
          "output_type": "stream",
          "text": [
            "100%|██████████| 500/500 [01:14<00:00,  6.70it/s]\n"
          ]
        },
        {
          "name": "stdout",
          "output_type": "stream",
          "text": [
            "\n",
            "Epoch No. 8\n",
            "======\n",
            "\n",
            "Training Loss is 0.000134684172735, Validation Loss is 0.000105214767650\n",
            "===============\n",
            "\n"
          ]
        },
        {
          "name": "stderr",
          "output_type": "stream",
          "text": [
            "100%|██████████| 500/500 [01:22<00:00,  6.08it/s]\n"
          ]
        },
        {
          "name": "stdout",
          "output_type": "stream",
          "text": [
            "\n",
            "Epoch No. 9\n",
            "======\n",
            "\n",
            "Training Loss is 0.000131067422197, Validation Loss is 0.000174388869103\n",
            "===============\n",
            "\n"
          ]
        },
        {
          "name": "stderr",
          "output_type": "stream",
          "text": [
            "100%|██████████| 500/500 [01:21<00:00,  6.13it/s]\n"
          ]
        },
        {
          "name": "stdout",
          "output_type": "stream",
          "text": [
            "\n",
            "Epoch No. 10\n",
            "======\n",
            "\n",
            "Training Loss is 0.000119503463939, Validation Loss is 0.000102137557752\n",
            "===============\n",
            "\n"
          ]
        },
        {
          "name": "stderr",
          "output_type": "stream",
          "text": [
            "100%|██████████| 500/500 [01:16<00:00,  6.56it/s]\n"
          ]
        },
        {
          "name": "stdout",
          "output_type": "stream",
          "text": [
            "\n",
            "Epoch No. 11\n",
            "======\n",
            "\n",
            "Training Loss is 0.000123639704580, Validation Loss is 0.000111527794428\n",
            "===============\n",
            "\n"
          ]
        },
        {
          "name": "stderr",
          "output_type": "stream",
          "text": [
            "100%|██████████| 500/500 [01:15<00:00,  6.61it/s]\n"
          ]
        },
        {
          "name": "stdout",
          "output_type": "stream",
          "text": [
            "\n",
            "Epoch No. 12\n",
            "======\n",
            "\n",
            "Training Loss is 0.000110512356725, Validation Loss is 0.000125952365731\n",
            "===============\n",
            "\n"
          ]
        },
        {
          "name": "stderr",
          "output_type": "stream",
          "text": [
            "100%|██████████| 500/500 [01:15<00:00,  6.66it/s]\n"
          ]
        },
        {
          "name": "stdout",
          "output_type": "stream",
          "text": [
            "Epoch 00016: reducing learning rate of group 0 to 3.6000e-04.\n",
            "\n",
            "Epoch No. 13\n",
            "======\n",
            "\n",
            "Training Loss is 0.000101116072918, Validation Loss is 0.000196730416815\n",
            "===============\n",
            "\n"
          ]
        },
        {
          "name": "stderr",
          "output_type": "stream",
          "text": [
            "100%|██████████| 500/500 [01:15<00:00,  6.62it/s]\n"
          ]
        },
        {
          "name": "stdout",
          "output_type": "stream",
          "text": [
            "\n",
            "Epoch No. 14\n",
            "======\n",
            "\n",
            "Training Loss is 0.000098469808458, Validation Loss is 0.000095305457170\n",
            "===============\n",
            "\n"
          ]
        },
        {
          "name": "stderr",
          "output_type": "stream",
          "text": [
            "100%|██████████| 500/500 [01:14<00:00,  6.70it/s]\n"
          ]
        },
        {
          "name": "stdout",
          "output_type": "stream",
          "text": [
            "\n",
            "Epoch No. 15\n",
            "======\n",
            "\n",
            "Training Loss is 0.000093659097380, Validation Loss is 0.000098147549752\n",
            "===============\n",
            "\n"
          ]
        },
        {
          "name": "stderr",
          "output_type": "stream",
          "text": [
            "100%|██████████| 500/500 [01:15<00:00,  6.61it/s]\n"
          ]
        },
        {
          "name": "stdout",
          "output_type": "stream",
          "text": [
            "\n",
            "Epoch No. 16\n",
            "======\n",
            "\n",
            "Training Loss is 0.000087512015074, Validation Loss is 0.000106751456596\n",
            "===============\n",
            "\n"
          ]
        },
        {
          "name": "stderr",
          "output_type": "stream",
          "text": [
            "100%|██████████| 500/500 [01:16<00:00,  6.57it/s]\n"
          ]
        },
        {
          "name": "stdout",
          "output_type": "stream",
          "text": [
            "\n",
            "Epoch No. 17\n",
            "======\n",
            "\n",
            "Training Loss is 0.000088440728752, Validation Loss is 0.000087707791820\n",
            "===============\n",
            "\n"
          ]
        },
        {
          "name": "stderr",
          "output_type": "stream",
          "text": [
            "100%|██████████| 500/500 [01:15<00:00,  6.61it/s]\n"
          ]
        },
        {
          "name": "stdout",
          "output_type": "stream",
          "text": [
            "\n",
            "Epoch No. 18\n",
            "======\n",
            "\n",
            "Training Loss is 0.000087823668575, Validation Loss is 0.000093163677876\n",
            "===============\n",
            "\n"
          ]
        },
        {
          "name": "stderr",
          "output_type": "stream",
          "text": [
            "100%|██████████| 500/500 [01:15<00:00,  6.58it/s]\n"
          ]
        },
        {
          "name": "stdout",
          "output_type": "stream",
          "text": [
            "\n",
            "Epoch No. 19\n",
            "======\n",
            "\n",
            "Training Loss is 0.000080570893006, Validation Loss is 0.000085811619231\n",
            "===============\n",
            "\n"
          ]
        },
        {
          "name": "stderr",
          "output_type": "stream",
          "text": [
            "100%|██████████| 500/500 [01:15<00:00,  6.62it/s]\n"
          ]
        },
        {
          "name": "stdout",
          "output_type": "stream",
          "text": [
            "\n",
            "Epoch No. 20\n",
            "======\n",
            "\n",
            "Training Loss is 0.000078715508287, Validation Loss is 0.000079374885986\n",
            "===============\n",
            "\n"
          ]
        },
        {
          "name": "stderr",
          "output_type": "stream",
          "text": [
            "100%|██████████| 500/500 [01:15<00:00,  6.61it/s]\n"
          ]
        },
        {
          "name": "stdout",
          "output_type": "stream",
          "text": [
            "\n",
            "Epoch No. 21\n",
            "======\n",
            "\n",
            "Training Loss is 0.000074017216539, Validation Loss is 0.000098206264305\n",
            "===============\n",
            "\n"
          ]
        },
        {
          "name": "stderr",
          "output_type": "stream",
          "text": [
            "100%|██████████| 500/500 [01:16<00:00,  6.54it/s]\n"
          ]
        },
        {
          "name": "stdout",
          "output_type": "stream",
          "text": [
            "\n",
            "Epoch No. 22\n",
            "======\n",
            "\n",
            "Training Loss is 0.000068086694660, Validation Loss is 0.000105584372322\n",
            "===============\n",
            "\n"
          ]
        },
        {
          "name": "stderr",
          "output_type": "stream",
          "text": [
            "100%|██████████| 500/500 [01:15<00:00,  6.62it/s]\n"
          ]
        },
        {
          "name": "stdout",
          "output_type": "stream",
          "text": [
            "Epoch 00026: reducing learning rate of group 0 to 3.2400e-04.\n",
            "\n",
            "Epoch No. 23\n",
            "======\n",
            "\n",
            "Training Loss is 0.000070414066311, Validation Loss is 0.000165042621019\n",
            "===============\n",
            "\n"
          ]
        },
        {
          "name": "stderr",
          "output_type": "stream",
          "text": [
            "100%|██████████| 500/500 [01:15<00:00,  6.59it/s]\n"
          ]
        },
        {
          "name": "stdout",
          "output_type": "stream",
          "text": [
            "\n",
            "Epoch No. 24\n",
            "======\n",
            "\n",
            "Training Loss is 0.000061617566575, Validation Loss is 0.000091068056737\n",
            "===============\n",
            "\n"
          ]
        },
        {
          "name": "stderr",
          "output_type": "stream",
          "text": [
            "100%|██████████| 500/500 [01:15<00:00,  6.62it/s]\n"
          ]
        },
        {
          "name": "stdout",
          "output_type": "stream",
          "text": [
            "\n",
            "Epoch No. 25\n",
            "======\n",
            "\n",
            "Training Loss is 0.000057346557551, Validation Loss is 0.000120287015018\n",
            "===============\n",
            "\n"
          ]
        },
        {
          "name": "stderr",
          "output_type": "stream",
          "text": [
            "100%|██████████| 500/500 [01:15<00:00,  6.63it/s]\n"
          ]
        },
        {
          "name": "stdout",
          "output_type": "stream",
          "text": [
            "\n",
            "Epoch No. 26\n",
            "======\n",
            "\n",
            "Training Loss is 0.000056793582426, Validation Loss is 0.000071969160398\n",
            "===============\n",
            "\n"
          ]
        },
        {
          "name": "stderr",
          "output_type": "stream",
          "text": [
            "100%|██████████| 500/500 [01:16<00:00,  6.57it/s]\n"
          ]
        },
        {
          "name": "stdout",
          "output_type": "stream",
          "text": [
            "\n",
            "Epoch No. 27\n",
            "======\n",
            "\n",
            "Training Loss is 0.000054980188954, Validation Loss is 0.000065822695130\n",
            "===============\n",
            "\n"
          ]
        },
        {
          "name": "stderr",
          "output_type": "stream",
          "text": [
            "100%|██████████| 500/500 [01:15<00:00,  6.60it/s]\n"
          ]
        },
        {
          "name": "stdout",
          "output_type": "stream",
          "text": [
            "\n",
            "Epoch No. 28\n",
            "======\n",
            "\n",
            "Training Loss is 0.000050529060638, Validation Loss is 0.000076844162755\n",
            "===============\n",
            "\n"
          ]
        },
        {
          "name": "stderr",
          "output_type": "stream",
          "text": [
            "100%|██████████| 500/500 [01:16<00:00,  6.53it/s]\n"
          ]
        },
        {
          "name": "stdout",
          "output_type": "stream",
          "text": [
            "\n",
            "Epoch No. 29\n",
            "======\n",
            "\n",
            "Training Loss is 0.000052050121049, Validation Loss is 0.000120129886440\n",
            "===============\n",
            "\n"
          ]
        },
        {
          "name": "stderr",
          "output_type": "stream",
          "text": [
            "100%|██████████| 500/500 [01:15<00:00,  6.59it/s]\n"
          ]
        },
        {
          "name": "stdout",
          "output_type": "stream",
          "text": [
            "Epoch 00033: reducing learning rate of group 0 to 2.9160e-04.\n",
            "\n",
            "Epoch No. 30\n",
            "======\n",
            "\n",
            "Training Loss is 0.000049667840573, Validation Loss is 0.000339071034677\n",
            "===============\n",
            "\n"
          ]
        },
        {
          "name": "stderr",
          "output_type": "stream",
          "text": [
            "100%|██████████| 500/500 [01:15<00:00,  6.60it/s]\n"
          ]
        },
        {
          "name": "stdout",
          "output_type": "stream",
          "text": [
            "\n",
            "Epoch No. 31\n",
            "======\n",
            "\n",
            "Training Loss is 0.000044066559196, Validation Loss is 0.000072620015364\n",
            "===============\n",
            "\n"
          ]
        },
        {
          "name": "stderr",
          "output_type": "stream",
          "text": [
            "100%|██████████| 500/500 [01:16<00:00,  6.56it/s]\n"
          ]
        },
        {
          "name": "stdout",
          "output_type": "stream",
          "text": [
            "\n",
            "Epoch No. 32\n",
            "======\n",
            "\n",
            "Training Loss is 0.000044621716490, Validation Loss is 0.000066598419792\n",
            "===============\n",
            "\n"
          ]
        },
        {
          "name": "stderr",
          "output_type": "stream",
          "text": [
            "100%|██████████| 500/500 [01:15<00:00,  6.59it/s]\n"
          ]
        },
        {
          "name": "stdout",
          "output_type": "stream",
          "text": [
            "\n",
            "Epoch No. 33\n",
            "======\n",
            "\n",
            "Training Loss is 0.000041144330302, Validation Loss is 0.000064966847161\n",
            "===============\n",
            "\n"
          ]
        },
        {
          "name": "stderr",
          "output_type": "stream",
          "text": [
            "100%|██████████| 500/500 [01:16<00:00,  6.57it/s]\n"
          ]
        },
        {
          "name": "stdout",
          "output_type": "stream",
          "text": [
            "\n",
            "Epoch No. 34\n",
            "======\n",
            "\n",
            "Training Loss is 0.000043075970612, Validation Loss is 0.000109872313000\n",
            "===============\n",
            "\n"
          ]
        },
        {
          "name": "stderr",
          "output_type": "stream",
          "text": [
            "100%|██████████| 500/500 [01:15<00:00,  6.61it/s]\n"
          ]
        },
        {
          "name": "stdout",
          "output_type": "stream",
          "text": [
            "\n",
            "Epoch No. 35\n",
            "======\n",
            "\n",
            "Training Loss is 0.000040555668131, Validation Loss is 0.000070335072595\n",
            "===============\n",
            "\n"
          ]
        },
        {
          "name": "stderr",
          "output_type": "stream",
          "text": [
            "100%|██████████| 500/500 [01:16<00:00,  6.57it/s]\n"
          ]
        },
        {
          "name": "stdout",
          "output_type": "stream",
          "text": [
            "Epoch 00039: reducing learning rate of group 0 to 2.6244e-04.\n",
            "\n",
            "Epoch No. 36\n",
            "======\n",
            "\n",
            "Training Loss is 0.000039265098603, Validation Loss is 0.000092419935610\n",
            "===============\n",
            "\n"
          ]
        },
        {
          "name": "stderr",
          "output_type": "stream",
          "text": [
            "100%|██████████| 500/500 [01:15<00:00,  6.60it/s]\n"
          ]
        },
        {
          "name": "stdout",
          "output_type": "stream",
          "text": [
            "\n",
            "Epoch No. 37\n",
            "======\n",
            "\n",
            "Training Loss is 0.000036514309575, Validation Loss is 0.000070195552585\n",
            "===============\n",
            "\n"
          ]
        },
        {
          "name": "stderr",
          "output_type": "stream",
          "text": [
            "100%|██████████| 500/500 [01:15<00:00,  6.60it/s]\n"
          ]
        },
        {
          "name": "stdout",
          "output_type": "stream",
          "text": [
            "\n",
            "Epoch No. 38\n",
            "======\n",
            "\n",
            "Training Loss is 0.000035413689635, Validation Loss is 0.000066186993233\n",
            "===============\n",
            "\n"
          ]
        },
        {
          "name": "stderr",
          "output_type": "stream",
          "text": [
            "100%|██████████| 500/500 [01:16<00:00,  6.54it/s]\n"
          ]
        },
        {
          "name": "stdout",
          "output_type": "stream",
          "text": [
            "\n",
            "Epoch No. 39\n",
            "======\n",
            "\n",
            "Training Loss is 0.000034017864587, Validation Loss is 0.000063351458107\n",
            "===============\n",
            "\n"
          ]
        },
        {
          "name": "stderr",
          "output_type": "stream",
          "text": [
            "100%|██████████| 500/500 [01:16<00:00,  6.57it/s]\n"
          ]
        },
        {
          "name": "stdout",
          "output_type": "stream",
          "text": [
            "\n",
            "Epoch No. 40\n",
            "======\n",
            "\n",
            "Training Loss is 0.000033542902916, Validation Loss is 0.000064159422335\n",
            "===============\n",
            "\n"
          ]
        },
        {
          "name": "stderr",
          "output_type": "stream",
          "text": [
            "100%|██████████| 500/500 [01:16<00:00,  6.53it/s]\n"
          ]
        },
        {
          "name": "stdout",
          "output_type": "stream",
          "text": [
            "\n",
            "Epoch No. 41\n",
            "======\n",
            "\n",
            "Training Loss is 0.000030444596892, Validation Loss is 0.000136743040269\n",
            "===============\n",
            "\n"
          ]
        },
        {
          "name": "stderr",
          "output_type": "stream",
          "text": [
            "100%|██████████| 500/500 [01:15<00:00,  6.59it/s]\n"
          ]
        },
        {
          "name": "stdout",
          "output_type": "stream",
          "text": [
            "Epoch 00045: reducing learning rate of group 0 to 2.3620e-04.\n",
            "\n",
            "Epoch No. 42\n",
            "======\n",
            "\n",
            "Training Loss is 0.000031292331083, Validation Loss is 0.000064418986320\n",
            "===============\n",
            "\n"
          ]
        },
        {
          "name": "stderr",
          "output_type": "stream",
          "text": [
            "100%|██████████| 500/500 [01:15<00:00,  6.62it/s]\n"
          ]
        },
        {
          "name": "stdout",
          "output_type": "stream",
          "text": [
            "\n",
            "Epoch No. 43\n",
            "======\n",
            "\n",
            "Training Loss is 0.000030097467390, Validation Loss is 0.000066333328360\n",
            "===============\n",
            "\n"
          ]
        },
        {
          "name": "stderr",
          "output_type": "stream",
          "text": [
            "100%|██████████| 500/500 [01:16<00:00,  6.55it/s]\n"
          ]
        },
        {
          "name": "stdout",
          "output_type": "stream",
          "text": [
            "\n",
            "Epoch No. 44\n",
            "======\n",
            "\n",
            "Training Loss is 0.000026796970884, Validation Loss is 0.000067420419631\n",
            "===============\n",
            "\n"
          ]
        },
        {
          "name": "stderr",
          "output_type": "stream",
          "text": [
            "100%|██████████| 500/500 [01:15<00:00,  6.65it/s]\n"
          ]
        },
        {
          "name": "stdout",
          "output_type": "stream",
          "text": [
            "Epoch 00048: reducing learning rate of group 0 to 2.1258e-04.\n",
            "\n",
            "Epoch No. 45\n",
            "======\n",
            "\n",
            "Training Loss is 0.000026213757848, Validation Loss is 0.000097559820764\n",
            "===============\n",
            "\n"
          ]
        },
        {
          "name": "stderr",
          "output_type": "stream",
          "text": [
            "100%|██████████| 500/500 [01:15<00:00,  6.60it/s]\n"
          ]
        },
        {
          "name": "stdout",
          "output_type": "stream",
          "text": [
            "\n",
            "Epoch No. 46\n",
            "======\n",
            "\n",
            "Training Loss is 0.000023312968695, Validation Loss is 0.000064652813048\n",
            "===============\n",
            "\n"
          ]
        },
        {
          "name": "stderr",
          "output_type": "stream",
          "text": [
            "100%|██████████| 500/500 [01:15<00:00,  6.65it/s]\n"
          ]
        },
        {
          "name": "stdout",
          "output_type": "stream",
          "text": [
            "\n",
            "Epoch No. 47\n",
            "======\n",
            "\n",
            "Training Loss is 0.000023943839300, Validation Loss is 0.000069413174436\n",
            "===============\n",
            "\n"
          ]
        },
        {
          "name": "stderr",
          "output_type": "stream",
          "text": [
            "100%|██████████| 500/500 [01:16<00:00,  6.54it/s]\n"
          ]
        },
        {
          "name": "stdout",
          "output_type": "stream",
          "text": [
            "Epoch 00051: reducing learning rate of group 0 to 1.9132e-04.\n",
            "\n",
            "Epoch No. 48\n",
            "======\n",
            "\n",
            "Training Loss is 0.000022722319946, Validation Loss is 0.000071661461998\n",
            "===============\n",
            "\n"
          ]
        },
        {
          "name": "stderr",
          "output_type": "stream",
          "text": [
            "100%|██████████| 500/500 [01:15<00:00,  6.63it/s]\n"
          ]
        },
        {
          "name": "stdout",
          "output_type": "stream",
          "text": [
            "\n",
            "Epoch No. 49\n",
            "======\n",
            "\n",
            "Training Loss is 0.000020902183262, Validation Loss is 0.000063848853484\n",
            "===============\n",
            "\n"
          ]
        },
        {
          "name": "stderr",
          "output_type": "stream",
          "text": [
            "100%|██████████| 500/500 [01:14<00:00,  6.68it/s]\n"
          ]
        },
        {
          "name": "stdout",
          "output_type": "stream",
          "text": [
            "\n",
            "Epoch No. 50\n",
            "======\n",
            "\n",
            "Training Loss is 0.000019379590907, Validation Loss is 0.000065100093187\n",
            "===============\n",
            "\n"
          ]
        },
        {
          "name": "stderr",
          "output_type": "stream",
          "text": [
            "100%|██████████| 500/500 [01:15<00:00,  6.63it/s]\n"
          ]
        },
        {
          "name": "stdout",
          "output_type": "stream",
          "text": [
            "Epoch 00054: reducing learning rate of group 0 to 1.7219e-04.\n",
            "\n",
            "Epoch No. 51\n",
            "======\n",
            "\n",
            "Training Loss is 0.000019933602317, Validation Loss is 0.000071515857613\n",
            "===============\n",
            "\n"
          ]
        },
        {
          "name": "stderr",
          "output_type": "stream",
          "text": [
            "100%|██████████| 500/500 [01:14<00:00,  6.71it/s]\n"
          ]
        },
        {
          "name": "stdout",
          "output_type": "stream",
          "text": [
            "\n",
            "Epoch No. 52\n",
            "======\n",
            "\n",
            "Training Loss is 0.000017741554728, Validation Loss is 0.000067727858954\n",
            "===============\n",
            "\n"
          ]
        },
        {
          "name": "stderr",
          "output_type": "stream",
          "text": [
            "100%|██████████| 500/500 [01:14<00:00,  6.70it/s]\n"
          ]
        },
        {
          "name": "stdout",
          "output_type": "stream",
          "text": [
            "\n",
            "Epoch No. 53\n",
            "======\n",
            "\n",
            "Training Loss is 0.000017845097884, Validation Loss is 0.000076450393011\n",
            "===============\n",
            "\n"
          ]
        },
        {
          "name": "stderr",
          "output_type": "stream",
          "text": [
            "100%|██████████| 500/500 [01:14<00:00,  6.69it/s]\n"
          ]
        },
        {
          "name": "stdout",
          "output_type": "stream",
          "text": [
            "Epoch 00057: reducing learning rate of group 0 to 1.5497e-04.\n",
            "\n",
            "Epoch No. 54\n",
            "======\n",
            "\n",
            "Training Loss is 0.000017404456516, Validation Loss is 0.000067216804238\n",
            "===============\n",
            "\n"
          ]
        },
        {
          "name": "stderr",
          "output_type": "stream",
          "text": [
            "100%|██████████| 500/500 [01:14<00:00,  6.72it/s]\n"
          ]
        },
        {
          "name": "stdout",
          "output_type": "stream",
          "text": [
            "\n",
            "Epoch No. 55\n",
            "======\n",
            "\n",
            "Training Loss is 0.000015646937681, Validation Loss is 0.000065573624144\n",
            "===============\n",
            "\n"
          ]
        },
        {
          "name": "stderr",
          "output_type": "stream",
          "text": [
            "100%|██████████| 500/500 [01:14<00:00,  6.67it/s]\n"
          ]
        },
        {
          "name": "stdout",
          "output_type": "stream",
          "text": [
            "\n",
            "Epoch No. 56\n",
            "======\n",
            "\n",
            "Training Loss is 0.000015708807837, Validation Loss is 0.000073133276139\n",
            "===============\n",
            "\n"
          ]
        },
        {
          "name": "stderr",
          "output_type": "stream",
          "text": [
            "100%|██████████| 500/500 [01:14<00:00,  6.69it/s]\n"
          ]
        },
        {
          "name": "stdout",
          "output_type": "stream",
          "text": [
            "Epoch 00060: reducing learning rate of group 0 to 1.3947e-04.\n",
            "\n",
            "Epoch No. 57\n",
            "======\n",
            "\n",
            "Training Loss is 0.000014321408829, Validation Loss is 0.000068406276518\n",
            "===============\n",
            "\n"
          ]
        },
        {
          "name": "stderr",
          "output_type": "stream",
          "text": [
            "100%|██████████| 500/500 [01:15<00:00,  6.66it/s]\n"
          ]
        },
        {
          "name": "stdout",
          "output_type": "stream",
          "text": [
            "\n",
            "Epoch No. 58\n",
            "======\n",
            "\n",
            "Training Loss is 0.000015089207144, Validation Loss is 0.000069314150876\n",
            "===============\n",
            "\n"
          ]
        },
        {
          "name": "stderr",
          "output_type": "stream",
          "text": [
            "100%|██████████| 500/500 [01:15<00:00,  6.62it/s]\n"
          ]
        },
        {
          "name": "stdout",
          "output_type": "stream",
          "text": [
            "\n",
            "Epoch No. 59\n",
            "======\n",
            "\n",
            "Training Loss is 0.000014023271841, Validation Loss is 0.000064088825480\n",
            "===============\n",
            "\n"
          ]
        },
        {
          "name": "stderr",
          "output_type": "stream",
          "text": [
            "100%|██████████| 500/500 [01:15<00:00,  6.64it/s]\n"
          ]
        },
        {
          "name": "stdout",
          "output_type": "stream",
          "text": [
            "Epoch 00063: reducing learning rate of group 0 to 1.2552e-04.\n",
            "\n",
            "Epoch No. 60\n",
            "======\n",
            "\n",
            "Training Loss is 0.000013588093345, Validation Loss is 0.000064448809142\n",
            "===============\n",
            "\n"
          ]
        },
        {
          "name": "stderr",
          "output_type": "stream",
          "text": [
            "100%|██████████| 500/500 [01:14<00:00,  6.73it/s]\n"
          ]
        },
        {
          "name": "stdout",
          "output_type": "stream",
          "text": [
            "\n",
            "Epoch No. 61\n",
            "======\n",
            "\n",
            "Training Loss is 0.000012223365613, Validation Loss is 0.000065083841643\n",
            "===============\n",
            "\n"
          ]
        },
        {
          "name": "stderr",
          "output_type": "stream",
          "text": [
            "100%|██████████| 500/500 [01:14<00:00,  6.72it/s]\n"
          ]
        },
        {
          "name": "stdout",
          "output_type": "stream",
          "text": [
            "\n",
            "Epoch No. 62\n",
            "======\n",
            "\n",
            "Training Loss is 0.000011757657626, Validation Loss is 0.000062558305737\n",
            "===============\n",
            "\n"
          ]
        },
        {
          "name": "stderr",
          "output_type": "stream",
          "text": [
            "100%|██████████| 500/500 [01:14<00:00,  6.71it/s]\n"
          ]
        },
        {
          "name": "stdout",
          "output_type": "stream",
          "text": [
            "\n",
            "Epoch No. 63\n",
            "======\n",
            "\n",
            "Training Loss is 0.000010805636703, Validation Loss is 0.000064602455943\n",
            "===============\n",
            "\n"
          ]
        },
        {
          "name": "stderr",
          "output_type": "stream",
          "text": [
            "100%|██████████| 500/500 [01:14<00:00,  6.73it/s]\n"
          ]
        },
        {
          "name": "stdout",
          "output_type": "stream",
          "text": [
            "\n",
            "Epoch No. 64\n",
            "======\n",
            "\n",
            "Training Loss is 0.000011035021875, Validation Loss is 0.000062817741035\n",
            "===============\n",
            "\n"
          ]
        },
        {
          "name": "stderr",
          "output_type": "stream",
          "text": [
            "100%|██████████| 500/500 [01:14<00:00,  6.71it/s]\n"
          ]
        },
        {
          "name": "stdout",
          "output_type": "stream",
          "text": [
            "Epoch 00068: reducing learning rate of group 0 to 1.1297e-04.\n",
            "\n",
            "Epoch No. 65\n",
            "======\n",
            "\n",
            "Training Loss is 0.000010506562653, Validation Loss is 0.000080411418966\n",
            "===============\n",
            "\n"
          ]
        },
        {
          "name": "stderr",
          "output_type": "stream",
          "text": [
            "100%|██████████| 500/500 [01:14<00:00,  6.67it/s]\n"
          ]
        },
        {
          "name": "stdout",
          "output_type": "stream",
          "text": [
            "\n",
            "Epoch No. 66\n",
            "======\n",
            "\n",
            "Training Loss is 0.000010598670904, Validation Loss is 0.000067244288648\n",
            "===============\n",
            "\n"
          ]
        },
        {
          "name": "stderr",
          "output_type": "stream",
          "text": [
            "100%|██████████| 500/500 [01:15<00:00,  6.65it/s]\n"
          ]
        },
        {
          "name": "stdout",
          "output_type": "stream",
          "text": [
            "\n",
            "Epoch No. 67\n",
            "======\n",
            "\n",
            "Training Loss is 0.000010063462621, Validation Loss is 0.000064256051556\n",
            "===============\n",
            "\n"
          ]
        },
        {
          "name": "stderr",
          "output_type": "stream",
          "text": [
            "100%|██████████| 500/500 [01:14<00:00,  6.67it/s]\n"
          ]
        },
        {
          "name": "stdout",
          "output_type": "stream",
          "text": [
            "Epoch 00071: reducing learning rate of group 0 to 1.0167e-04.\n",
            "\n",
            "Epoch No. 68\n",
            "======\n",
            "\n",
            "Training Loss is 0.000009643100662, Validation Loss is 0.000065059011052\n",
            "===============\n",
            "\n"
          ]
        },
        {
          "name": "stderr",
          "output_type": "stream",
          "text": [
            "100%|██████████| 500/500 [01:14<00:00,  6.67it/s]\n"
          ]
        },
        {
          "name": "stdout",
          "output_type": "stream",
          "text": [
            "\n",
            "Epoch No. 69\n",
            "======\n",
            "\n",
            "Training Loss is 0.000008591947864, Validation Loss is 0.000062923575728\n",
            "===============\n",
            "\n"
          ]
        },
        {
          "name": "stderr",
          "output_type": "stream",
          "text": [
            "100%|██████████| 500/500 [01:14<00:00,  6.69it/s]\n"
          ]
        },
        {
          "name": "stdout",
          "output_type": "stream",
          "text": [
            "\n",
            "Epoch No. 70\n",
            "======\n",
            "\n",
            "Training Loss is 0.000008408029665, Validation Loss is 0.000064060442749\n",
            "===============\n",
            "\n"
          ]
        },
        {
          "name": "stderr",
          "output_type": "stream",
          "text": [
            "100%|██████████| 500/500 [01:14<00:00,  6.71it/s]\n"
          ]
        },
        {
          "name": "stdout",
          "output_type": "stream",
          "text": [
            "Epoch 00074: reducing learning rate of group 0 to 9.1507e-05.\n",
            "\n",
            "Epoch No. 71\n",
            "======\n",
            "\n",
            "Training Loss is 0.000007936221556, Validation Loss is 0.000065642312822\n",
            "===============\n",
            "\n"
          ]
        },
        {
          "name": "stderr",
          "output_type": "stream",
          "text": [
            "100%|██████████| 500/500 [01:14<00:00,  6.72it/s]\n"
          ]
        },
        {
          "name": "stdout",
          "output_type": "stream",
          "text": [
            "\n",
            "Epoch No. 72\n",
            "======\n",
            "\n",
            "Training Loss is 0.000008021743353, Validation Loss is 0.000065695506136\n",
            "===============\n",
            "\n"
          ]
        },
        {
          "name": "stderr",
          "output_type": "stream",
          "text": [
            "100%|██████████| 500/500 [01:14<00:00,  6.73it/s]\n"
          ]
        },
        {
          "name": "stdout",
          "output_type": "stream",
          "text": [
            "\n",
            "Epoch No. 73\n",
            "======\n",
            "\n",
            "Training Loss is 0.000008010407720, Validation Loss is 0.000068771112349\n",
            "===============\n",
            "\n"
          ]
        },
        {
          "name": "stderr",
          "output_type": "stream",
          "text": [
            "100%|██████████| 500/500 [01:14<00:00,  6.72it/s]\n"
          ]
        },
        {
          "name": "stdout",
          "output_type": "stream",
          "text": [
            "Epoch 00077: reducing learning rate of group 0 to 8.2356e-05.\n",
            "\n",
            "Epoch No. 74\n",
            "======\n",
            "\n",
            "Training Loss is 0.000007112640267, Validation Loss is 0.000065648679863\n",
            "===============\n",
            "\n"
          ]
        },
        {
          "name": "stderr",
          "output_type": "stream",
          "text": [
            "100%|██████████| 500/500 [01:14<00:00,  6.69it/s]\n"
          ]
        },
        {
          "name": "stdout",
          "output_type": "stream",
          "text": [
            "\n",
            "Epoch No. 75\n",
            "======\n",
            "\n",
            "Training Loss is 0.000007169794070, Validation Loss is 0.000065625380860\n",
            "===============\n",
            "\n"
          ]
        },
        {
          "name": "stderr",
          "output_type": "stream",
          "text": [
            "100%|██████████| 500/500 [01:14<00:00,  6.70it/s]\n"
          ]
        },
        {
          "name": "stdout",
          "output_type": "stream",
          "text": [
            "\n",
            "Epoch No. 76\n",
            "======\n",
            "\n",
            "Training Loss is 0.000006928340047, Validation Loss is 0.000070871640515\n",
            "===============\n",
            "\n"
          ]
        },
        {
          "name": "stderr",
          "output_type": "stream",
          "text": [
            "100%|██████████| 500/500 [01:14<00:00,  6.70it/s]\n"
          ]
        },
        {
          "name": "stdout",
          "output_type": "stream",
          "text": [
            "Epoch 00080: reducing learning rate of group 0 to 7.4121e-05.\n",
            "\n",
            "Epoch No. 77\n",
            "======\n",
            "\n",
            "Training Loss is 0.000007105872187, Validation Loss is 0.000064453516860\n",
            "===============\n",
            "\n"
          ]
        },
        {
          "name": "stderr",
          "output_type": "stream",
          "text": [
            "100%|██████████| 500/500 [01:15<00:00,  6.62it/s]\n"
          ]
        },
        {
          "name": "stdout",
          "output_type": "stream",
          "text": [
            "\n",
            "Epoch No. 78\n",
            "======\n",
            "\n",
            "Training Loss is 0.000006225862589, Validation Loss is 0.000069593250720\n",
            "===============\n",
            "\n"
          ]
        },
        {
          "name": "stderr",
          "output_type": "stream",
          "text": [
            "100%|██████████| 500/500 [01:15<00:00,  6.62it/s]\n"
          ]
        },
        {
          "name": "stdout",
          "output_type": "stream",
          "text": [
            "\n",
            "Epoch No. 79\n",
            "======\n",
            "\n",
            "Training Loss is 0.000006226773035, Validation Loss is 0.000066565662968\n",
            "===============\n",
            "\n"
          ]
        },
        {
          "name": "stderr",
          "output_type": "stream",
          "text": [
            "100%|██████████| 500/500 [01:15<00:00,  6.64it/s]\n"
          ]
        },
        {
          "name": "stdout",
          "output_type": "stream",
          "text": [
            "Epoch 00083: reducing learning rate of group 0 to 6.6709e-05.\n",
            "\n",
            "Epoch No. 80\n",
            "======\n",
            "\n",
            "Training Loss is 0.000006005895483, Validation Loss is 0.000063871214984\n",
            "===============\n",
            "\n"
          ]
        }
      ],
      "source": [
        "best_val_loss = 1\n",
        "\n",
        "for epoch in range(80):\n",
        "  losses = []\n",
        "  all_targets = []\n",
        "  all_scores = []\n",
        "\n",
        "  # set model to training mode\n",
        "  model.train()\n",
        "\n",
        "  for data, targets in tqdm(train_loader):\n",
        "  \n",
        "    data = data.to(device=device)\n",
        "    targets = targets.to(device=device)\n",
        "\n",
        "    # forward\n",
        "    scores = model(data).squeeze()\n",
        "    loss = criterion(scores, targets.squeeze(0))\n",
        "\n",
        "    losses.append(loss.item())\n",
        "\n",
        "    # backward\n",
        "    optimizer.zero_grad()\n",
        "    loss.backward()\n",
        "    optimizer.step()\n",
        "\n",
        "  avg_loss_train = sum(losses) / len(losses)\n",
        "  all_targets.extend(targets.cpu().numpy())\n",
        "  all_scores.extend(scores.detach().cpu().numpy())\n",
        "\n",
        "    \n",
        "  avg_loss_val, _ ,_ = evaluate(model,val_loader,criterion)\n",
        "  scheduler.step(avg_loss_val)\n",
        "    \n",
        "\n",
        "  if avg_loss_val < best_val_loss:\n",
        "    # Update the best validation loss\n",
        "    best_val_loss = avg_loss_val\n",
        "\n",
        "    # Save the model state dictionary and other information\n",
        "    torch.save({\n",
        "      'epoch': epoch,\n",
        "      'model_state_dict': model.state_dict(),\n",
        "      'optimizer_state_dict': optimizer.state_dict(),\n",
        "      'val_loss': avg_loss_val\n",
        "    }, \"/content/the_best_model.pth\")\n",
        "\n",
        "  print(f\"\\nEpoch No. {epoch+1}\\n======\\n\")\n",
        "  print(f\"Training Loss is {avg_loss_train:.15f}, Validation Loss is {avg_loss_val:.15f}\")\n",
        "  print(\"===============\\n\")"
      ]
    },
    {
      "attachments": {},
      "cell_type": "markdown",
      "metadata": {},
      "source": [
        "# **Testing**"
      ]
    },
    {
      "cell_type": "code",
      "execution_count": 31,
      "metadata": {
        "colab": {
          "base_uri": "https://localhost:8080/"
        },
        "id": "X4x0socH7ycs",
        "outputId": "aefef47e-24f8-450c-b84f-8971d9b5b8a2"
      },
      "outputs": [
        {
          "data": {
            "text/plain": [
              "<All keys matched successfully>"
            ]
          },
          "execution_count": 31,
          "metadata": {},
          "output_type": "execute_result"
        }
      ],
      "source": [
        "checkpoint = torch.load('/content/the_best_model.pth')\n",
        "model.load_state_dict(checkpoint['model_state_dict'])"
      ]
    },
    {
      "cell_type": "code",
      "execution_count": 32,
      "metadata": {
        "colab": {
          "base_uri": "https://localhost:8080/",
          "height": 868
        },
        "id": "4Nkl6d908yC1",
        "outputId": "9b70600b-6947-4971-f1e8-f373105a7c23"
      },
      "outputs": [
        {
          "name": "stdout",
          "output_type": "stream",
          "text": [
            "Validation Loss is 0.000061473335812\n"
          ]
        },
        {
          "data": {
            "image/png": "[encoded data removed]",
            "text/plain": [
              "<Figure size 1000x1000 with 1 Axes>"
            ]
          },
          "metadata": {},
          "output_type": "display_data"
        }
      ],
      "source": [
        "avg_loss_test, y_pred,y_true = evaluate(model,test_loader,criterion)\n",
        "print(f\"Validation Loss is {avg_loss_test:.15f}\")\n",
        "\n",
        "plt.figure(figsize=(10,10))\n",
        "plt.scatter(y_true, y_pred)\n",
        "plt.xlabel(\"Ground Truth\")\n",
        "plt.ylabel(\"Prediction\")\n",
        "plt.show()"
      ]
    },
    {
      "cell_type": "code",
      "execution_count": 34,
      "metadata": {
        "id": "UUHzhPyL9StZ"
      },
      "outputs": [],
      "source": [
        "torch.save(model.state_dict(), \"/content/Regression_m.pth\")"
      ]
    },
    {
      "cell_type": "code",
      "execution_count": null,
      "metadata": {
        "id": "biHqcqt3KMD-"
      },
      "outputs": [],
      "source": []
    }
  ],
  "metadata": {
    "accelerator": "GPU",
    "colab": {
      "provenance": []
    },
    "gpuClass": "standard",
    "kernelspec": {
      "display_name": "Python 3",
      "name": "python3"
    },
    "language_info": {
      "name": "python"
    }
  },
  "nbformat": 4,
  "nbformat_minor": 0
}
